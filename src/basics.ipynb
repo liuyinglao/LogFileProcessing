{
 "cells": [
  {
   "metadata": {},
   "cell_type": "raw",
   "source": "Reading files",
   "id": "ece34bffe01f0ec5"
  },
  {
   "cell_type": "code",
   "id": "initial_id",
   "metadata": {
    "collapsed": true,
    "ExecuteTime": {
     "end_time": "2025-01-23T19:29:12.306346Z",
     "start_time": "2025-01-23T19:29:12.301099Z"
    }
   },
   "source": [
    "from debugpy.common.sockets import serve\n",
    "\n",
    "MAX_LINES_TO_PRINT = 5\n",
    "with open('sample_log_file.log', 'r') as f:\n",
    "    # f is an iterator\n",
    "    for i, line in enumerate(f):\n",
    "        if i == MAX_LINES_TO_PRINT: # stop\n",
    "            break\n",
    "        # the extra empty line is because the line has \"\\n\" at the end\n",
    "        # print(repr(line)) can be used to see that\n",
    "        # or line.strip() will strip ' ', '\\t', '\\n' and '\\r\\n'\n",
    "        print(line.strip())\n"
   ],
   "outputs": [
    {
     "name": "stdout",
     "output_type": "stream",
     "text": [
      "2024-12-24 23:18:49 250.141.129.28 ERROR Session expired\n",
      "2025-01-19 05:07:49 140.111.39.206 DEBUG Session expired\n",
      "2025-01-04 04:03:49 68.155.22.150 DEBUG Permission denied\n",
      "2025-01-16 14:02:49 232.220.82.21 WARNING Configuration updated\n",
      "2025-01-20 23:56:49 253.114.152.234 ERROR Permission denied\n"
     ]
    }
   ],
   "execution_count": 11
  },
  {
   "metadata": {
    "ExecuteTime": {
     "end_time": "2025-01-23T19:25:08.012030Z",
     "start_time": "2025-01-23T19:25:08.005662Z"
    }
   },
   "cell_type": "code",
   "source": [
    "with open('sample_log_file.log', 'r') as f:\n",
    "    line = f.readline()\n",
    "    count = 0\n",
    "    while line != '':\n",
    "        count += 1\n",
    "        line = f.readline()\n",
    "    print(f'number of lines: {count}')\n",
    "    print('hello world')"
   ],
   "id": "a7a59cf8aa3ecf4",
   "outputs": [
    {
     "name": "stdout",
     "output_type": "stream",
     "text": [
      "number of lines: 100\n",
      "hello world\n"
     ]
    }
   ],
   "execution_count": 8
  },
  {
   "metadata": {},
   "cell_type": "markdown",
   "source": "String Processing",
   "id": "7bfe8152e54a941a"
  },
  {
   "metadata": {
    "ExecuteTime": {
     "end_time": "2025-01-23T19:40:08.830609Z",
     "start_time": "2025-01-23T19:40:08.824343Z"
    }
   },
   "cell_type": "code",
   "source": [
    "MAX_LINES_TO_PRINT = 5\n",
    "dates = set()\n",
    "with open('sample_log_file.log', 'r') as f:\n",
    "    # f is an iterator\n",
    "    for i, line in enumerate(f):\n",
    "        print(i, line.strip())\n",
    "        if i == MAX_LINES_TO_PRINT: # stop\n",
    "            break\n",
    "        # the extra empty line is because the line has \"\\n\" at the end\n",
    "        # print(repr(line)) can be used to see that\n",
    "        # or line.strip() will strip ' ', '\\t', '\\n' and '\\r\\n'\n",
    "        cols = line.strip().split(' ')\n",
    "        date = cols[0]\n",
    "        dates.add(date)\n",
    "    print(dates)"
   ],
   "id": "ade32557e4c5c6b9",
   "outputs": [
    {
     "name": "stdout",
     "output_type": "stream",
     "text": [
      "0 2024-12-24 23:18:49 250.141.129.28 ERROR Session expired\n",
      "1 2025-01-19 05:07:49 140.111.39.206 DEBUG Session expired\n",
      "2 2025-01-04 04:03:49 68.155.22.150 DEBUG Permission denied\n",
      "3 2025-01-16 14:02:49 232.220.82.21 WARNING Configuration updated\n",
      "4 2025-01-20 23:56:49 253.114.152.234 ERROR Permission denied\n",
      "5 2025-01-13 03:00:49 130.22.186.207 INFO Session expired\n",
      "{'2025-01-19', '2025-01-04', '2024-12-24', '2025-01-20', '2025-01-16'}\n"
     ]
    }
   ],
   "execution_count": 24
  },
  {
   "metadata": {
    "ExecuteTime": {
     "end_time": "2025-01-23T19:41:33.145197Z",
     "start_time": "2025-01-23T19:41:33.140134Z"
    }
   },
   "cell_type": "code",
   "source": [
    "MAX_LINES_TO_PRINT = 5\n",
    "dates = []\n",
    "with open('sample_log_file.log', 'r') as f:\n",
    "    # f is an iterator\n",
    "    for i, line in enumerate(f):\n",
    "        # print(i, line.strip())\n",
    "        if i == MAX_LINES_TO_PRINT: # stop\n",
    "            break\n",
    "        # the extra empty line is because the line has \"\\n\" at the end\n",
    "        # print(repr(line)) can be used to see that\n",
    "        # or line.strip() will strip ' ', '\\t', '\\n' and '\\r\\n'\n",
    "        cols = line.strip().split(' ')\n",
    "        print(date)\n",
    "        date = cols[0]\n",
    "        if not dates or dates[-1] < date:\n",
    "            dates.append(date)\n",
    "    print(dates)"
   ],
   "id": "bea67d8fc6b9d298",
   "outputs": [
    {
     "name": "stdout",
     "output_type": "stream",
     "text": [
      "2025-01-20\n",
      "2024-12-24\n",
      "2025-01-19\n",
      "2025-01-04\n",
      "2025-01-16\n",
      "['2024-12-24', '2025-01-19', '2025-01-20']\n"
     ]
    }
   ],
   "execution_count": 27
  },
  {
   "metadata": {
    "ExecuteTime": {
     "end_time": "2025-01-23T19:49:44.764453Z",
     "start_time": "2025-01-23T19:49:44.754146Z"
    }
   },
   "cell_type": "code",
   "source": [
    "# dates in the YYYY-MM-DD format are easy to compare. (simply > < == )\n",
    "# however other format comparison needs to use the datetime library\n",
    "\n",
    "from datetime import datetime\n",
    "date1 = '01-20-2025'\n",
    "date2 = '12-24-2024'\n",
    "\n",
    "compare = 'later' if date1 > date2 else 'earlier'\n",
    "\n",
    "print(f'{date1} is {compare} than {date2} -- wrong')\n",
    "\n",
    "date1_dt = datetime.strptime(date1, '%m-%d-%Y') # strptime = str parse time\n",
    "date2_dt = datetime.strptime(date2, '%m-%d-%Y')\n",
    "\n",
    "compare = 'later' if date1_dt > date2_dt else 'earlier'\n",
    "print(f'{date1} is {compare} than {date2} -- correct')\n"
   ],
   "id": "4d232ca81a429bdf",
   "outputs": [
    {
     "name": "stdout",
     "output_type": "stream",
     "text": [
      "01-20-2025 is earlier than 12-24-2024 -- wrong\n",
      "01-20-2025 is later than 12-24-2024 -- correct\n"
     ]
    }
   ],
   "execution_count": 32
  },
  {
   "metadata": {
    "ExecuteTime": {
     "end_time": "2025-01-23T20:07:01.652021Z",
     "start_time": "2025-01-23T20:07:01.645506Z"
    }
   },
   "cell_type": "code",
   "source": [
    "# extra note\n",
    "# strptime use default values to fill in the unspecified units\n",
    "# Y - 1900 | m - 01 | d - 01 | H - 00 | M - 00 | S - 00\n",
    "with open('sample_log_file.log', 'r') as f:\n",
    "    line = f.readline()\n",
    "    cols = line.strip().split(' ')\n",
    "    date = cols[0]\n",
    "    time = cols[1]\n",
    "date_dt = datetime.strptime(date, '%Y-%m-%d')\n",
    "time_dt = datetime.strptime(time, '%H:%M:%S')\n",
    "print(date_dt)\n",
    "print(time_dt)\n",
    "datetime_dt = datetime.strptime(f'{date} {time}', '%Y-%m-%d %H:%M:%S')\n",
    "print(datetime_dt)\n",
    "\n",
    "# if the format doesn't match, error will be thrown\n",
    "# date_dt = datetime.strptime(f'{date}', '%m-%d-%Y')\n",
    "# > ValueError: time data '2024-12-24' does not match format '%m-%d-%Y'"
   ],
   "id": "d7531d7f51e52257",
   "outputs": [
    {
     "name": "stdout",
     "output_type": "stream",
     "text": [
      "2024-12-24 00:00:00\n",
      "1900-01-01 23:18:49\n",
      "2024-12-24 23:18:49\n"
     ]
    }
   ],
   "execution_count": 43
  },
  {
   "metadata": {},
   "cell_type": "markdown",
   "source": "Writing files",
   "id": "a7bd451665ead41e"
  },
  {
   "metadata": {
    "ExecuteTime": {
     "end_time": "2025-01-23T22:44:29.029532Z",
     "start_time": "2025-01-23T22:44:29.011977Z"
    }
   },
   "cell_type": "code",
   "source": [
    "from collections import defaultdict\n",
    "log_counter = defaultdict(int)\n",
    "with open('sample_log_file.log', 'r') as f:\n",
    "    for i, line in enumerate(f):\n",
    "        cols = f.readline().strip().split(' ')\n",
    "        date = cols[0]\n",
    "        log_counter[date] += 1\n",
    "\n",
    "# the 'w' mode will either create a new file\n",
    "# or override the existing file\n",
    "with open('sample_log_file_processed.log', 'w') as f:\n",
    "    # f.close() # closing the file right-away will just leave the file empty\n",
    "    # there is no good way to modify a single line\n",
    "    # a workaround is to read the whole file into memory, modify and write the whole file.\n",
    "    for date, count in log_counter.items():\n",
    "        f.write(f'{date} {count}\\n')\n"
   ],
   "id": "256cf88fd7023b81",
   "outputs": [],
   "execution_count": 68
  },
  {
   "metadata": {},
   "cell_type": "markdown",
   "source": "Regular Expressions",
   "id": "4075f2851964a60e"
  },
  {
   "metadata": {
    "ExecuteTime": {
     "end_time": "2025-01-23T22:05:55.055483Z",
     "start_time": "2025-01-23T22:05:55.048886Z"
    }
   },
   "cell_type": "code",
   "source": [
    "import re\n",
    "with open('sample_log_file.log', 'r') as f:\n",
    "    #  f.read() reads the whole file into a single string\n",
    "    text = f.read()\n",
    "    print(text)\n",
    "\n",
    "all_ = re.findall(r'ERROR', text)\n",
    "print(all_)\n",
    "\n",
    "# \".\" here match a single character except for ' ', '/t', '/n', etc.\n",
    "all_ = re.findall(r'2024-..-..', text)\n",
    "print(all_)\n",
    "\n",
    "# re is greedy by default so \".+\" is matched with as many characters as possible\n",
    "all_ = re.findall(r'2024-.+\\d', text)\n",
    "print(all_)\n",
    "\n",
    "search_ =  re.search(r'2024-.+\\d', text)\n",
    "print(search_.group())\n",
    "print(search_.span())\n",
    "print(search_.start())\n",
    "print(search_.end())"
   ],
   "id": "b1ce13c0edc07a87",
   "outputs": [
    {
     "name": "stdout",
     "output_type": "stream",
     "text": [
      "2024-12-24 23:18:49 250.141.129.28 ERROR Session expired\n",
      "2025-01-19 05:07:49 140.111.39.206 DEBUG Session expired\n",
      "2025-01-04 04:03:49 68.155.22.150 DEBUG Permission denied\n",
      "2025-01-16 14:02:49 232.220.82.21 WARNING Configuration updated\n",
      "2025-01-20 23:56:49 253.114.152.234 ERROR Permission denied\n",
      "2025-01-13 03:00:49 130.22.186.207 INFO Session expired\n",
      "2025-01-02 23:11:49 102.80.177.18 DEBUG Permission denied\n",
      "2025-01-14 21:58:49 47.180.233.238 DEBUG Session expired\n",
      "2025-01-15 06:20:49 234.15.205.196 ERROR Session expired\n",
      "2025-01-11 11:52:49 59.234.42.39 ERROR Permission denied\n",
      "2024-12-24 15:51:49 194.153.23.221 CRITICAL Permission denied\n",
      "2025-01-23 12:26:49 85.77.138.186 CRITICAL Cache cleared\n",
      "2025-01-04 04:21:49 34.126.219.233 DEBUG Permission denied\n",
      "2024-12-25 14:27:49 39.78.3.195 ERROR File not found\n",
      "2025-01-14 17:25:49 118.19.250.122 INFO Unexpected error occurred\n",
      "2025-01-10 01:35:49 97.229.152.99 CRITICAL Session expired\n",
      "2025-01-18 03:30:49 220.142.157.133 CRITICAL Unexpected error occurred\n",
      "2024-12-26 13:52:49 228.189.181.39 WARNING Permission denied\n",
      "2025-01-18 18:45:49 231.214.208.163 CRITICAL Configuration updated\n",
      "2025-01-02 03:02:49 39.164.124.208 CRITICAL Service restarted successfully\n",
      "2025-01-15 14:51:49 10.202.195.151 CRITICAL User logged in\n",
      "2025-01-09 10:58:49 106.65.152.92 DEBUG Configuration updated\n",
      "2025-01-07 20:59:49 99.47.137.232 DEBUG Cache cleared\n",
      "2025-01-07 04:30:49 79.121.158.251 ERROR Unexpected error occurred\n",
      "2025-01-07 09:38:49 200.143.134.255 ERROR Cache cleared\n",
      "2025-01-01 03:48:49 158.242.251.209 INFO Unexpected error occurred\n",
      "2025-01-07 20:57:49 217.81.254.176 WARNING Service restarted successfully\n",
      "2024-12-27 23:37:49 172.100.249.113 ERROR Configuration updated\n",
      "2025-01-02 09:59:49 73.137.96.143 INFO Session expired\n",
      "2025-01-02 23:19:49 103.165.76.13 INFO Service restarted successfully\n",
      "2025-01-06 14:42:49 20.141.102.227 DEBUG Database connection established\n",
      "2025-01-10 11:05:49 48.1.148.240 WARNING File not found\n",
      "2024-12-26 09:13:49 232.227.219.148 CRITICAL Database connection established\n",
      "2024-12-24 07:56:49 151.228.78.51 INFO Database connection established\n",
      "2025-01-14 09:34:49 55.169.169.226 ERROR Configuration updated\n",
      "2024-12-23 20:31:49 243.240.235.183 INFO Configuration updated\n",
      "2025-01-19 01:27:49 222.112.3.7 INFO Service restarted successfully\n",
      "2024-12-28 23:22:49 108.13.237.33 INFO Database connection established\n",
      "2025-01-08 11:59:49 82.91.160.14 WARNING File not found\n",
      "2025-01-13 14:25:49 5.197.132.162 CRITICAL Service restarted successfully\n",
      "2024-12-26 17:36:49 6.44.125.76 ERROR Database connection established\n",
      "2025-01-08 02:45:49 113.245.251.24 WARNING User logged in\n",
      "2025-01-15 21:32:49 3.45.170.142 WARNING Database connection established\n",
      "2025-01-22 23:29:49 110.54.18.134 WARNING Session expired\n",
      "2025-01-06 12:28:49 101.28.123.139 DEBUG Cache cleared\n",
      "2024-12-28 18:01:49 78.12.75.181 WARNING File not found\n",
      "2025-01-11 09:34:49 99.211.149.197 WARNING Unexpected error occurred\n",
      "2025-01-06 10:15:49 176.89.204.66 WARNING Database connection established\n",
      "2025-01-09 05:08:49 112.41.156.57 INFO Configuration updated\n",
      "2025-01-21 22:06:49 81.80.195.43 CRITICAL Configuration updated\n",
      "2025-01-04 22:10:49 152.160.110.115 INFO Permission denied\n",
      "2025-01-01 03:46:49 129.105.64.166 WARNING File not found\n",
      "2025-01-16 20:13:49 206.160.194.150 CRITICAL Permission denied\n",
      "2024-12-28 15:47:49 181.80.203.140 ERROR Service restarted successfully\n",
      "2025-01-09 13:22:49 107.127.255.198 ERROR Cache cleared\n",
      "2024-12-31 15:26:49 228.144.131.218 INFO Service restarted successfully\n",
      "2025-01-11 23:06:49 22.51.175.76 INFO Database connection established\n",
      "2024-12-28 14:15:49 100.155.229.227 CRITICAL Service restarted successfully\n",
      "2025-01-09 06:31:49 229.128.111.66 WARNING Session expired\n",
      "2025-01-21 05:20:49 202.150.196.230 ERROR Permission denied\n",
      "2025-01-01 17:02:49 81.220.143.109 DEBUG Permission denied\n",
      "2024-12-25 02:05:49 165.99.84.15 INFO Service restarted successfully\n",
      "2025-01-09 23:49:49 40.45.80.172 CRITICAL Database connection established\n",
      "2024-12-29 03:34:49 209.1.124.201 CRITICAL Database connection established\n",
      "2025-01-02 13:34:49 151.199.206.65 CRITICAL Session expired\n",
      "2024-12-28 20:38:49 25.218.29.154 WARNING Service restarted successfully\n",
      "2025-01-08 19:00:49 84.92.18.89 INFO Permission denied\n",
      "2024-12-28 13:29:49 97.83.49.133 WARNING Cache cleared\n",
      "2024-12-29 17:05:49 240.222.97.31 INFO Unexpected error occurred\n",
      "2024-12-31 11:18:49 102.1.168.97 DEBUG Configuration updated\n",
      "2025-01-12 05:32:49 253.0.187.227 DEBUG Service restarted successfully\n",
      "2025-01-19 23:34:49 155.117.138.64 WARNING Configuration updated\n",
      "2025-01-02 14:22:49 105.96.177.246 INFO Cache cleared\n",
      "2025-01-13 06:13:49 172.147.36.199 WARNING Permission denied\n",
      "2025-01-16 22:40:49 172.50.103.78 CRITICAL Database connection established\n",
      "2024-12-29 10:59:49 209.159.239.201 DEBUG Permission denied\n",
      "2025-01-22 07:48:49 43.143.12.239 WARNING Cache cleared\n",
      "2025-01-06 19:28:49 44.233.205.245 WARNING User logged in\n",
      "2024-12-30 01:42:49 175.230.51.187 CRITICAL Service restarted successfully\n",
      "2025-01-23 09:20:49 170.146.39.56 ERROR Unexpected error occurred\n",
      "2025-01-04 12:37:49 82.41.45.240 CRITICAL User logged in\n",
      "2025-01-01 00:57:49 152.40.77.247 DEBUG Unexpected error occurred\n",
      "2024-12-24 17:31:49 88.169.92.21 INFO Configuration updated\n",
      "2025-01-03 10:23:49 29.75.134.217 ERROR Permission denied\n",
      "2025-01-22 12:47:49 235.199.226.239 CRITICAL Service restarted successfully\n",
      "2025-01-12 11:54:49 77.46.241.208 INFO Cache cleared\n",
      "2025-01-23 10:56:49 205.180.18.116 CRITICAL User logged in\n",
      "2025-01-15 18:06:49 246.176.118.126 INFO Database connection established\n",
      "2024-12-25 01:58:49 15.176.24.73 INFO Service restarted successfully\n",
      "2025-01-20 08:40:49 150.154.40.109 INFO Permission denied\n",
      "2025-01-02 11:00:49 225.207.87.120 ERROR File not found\n",
      "2025-01-02 23:00:49 80.54.150.74 DEBUG Database connection established\n",
      "2025-01-17 16:19:49 7.138.142.234 INFO Permission denied\n",
      "2025-01-11 01:26:49 23.191.131.80 CRITICAL Service restarted successfully\n",
      "2025-01-12 18:00:49 20.151.123.81 ERROR Permission denied\n",
      "2025-01-01 06:23:49 147.63.29.7 INFO Configuration updated\n",
      "2024-12-27 11:48:49 83.26.48.16 ERROR Cache cleared\n",
      "2025-01-01 17:37:49 117.78.38.175 ERROR Unexpected error occurred\n",
      "2025-01-05 22:17:49 39.235.225.208 INFO Configuration updated\n",
      "2025-01-13 08:10:49 163.143.254.142 DEBUG Database connection established\n",
      "['ERROR', 'ERROR', 'ERROR', 'ERROR', 'ERROR', 'ERROR', 'ERROR', 'ERROR', 'ERROR', 'ERROR', 'ERROR', 'ERROR', 'ERROR', 'ERROR', 'ERROR', 'ERROR', 'ERROR', 'ERROR', 'ERROR']\n",
      "['2024-12-24', '2024-12-24', '2024-12-25', '2024-12-26', '2024-12-27', '2024-12-26', '2024-12-24', '2024-12-23', '2024-12-28', '2024-12-26', '2024-12-28', '2024-12-28', '2024-12-31', '2024-12-28', '2024-12-25', '2024-12-29', '2024-12-28', '2024-12-28', '2024-12-29', '2024-12-31', '2024-12-29', '2024-12-30', '2024-12-24', '2024-12-25', '2024-12-27']\n",
      "['2024-12-24 23:18:49 250.141.129.28', '2024-12-24 15:51:49 194.153.23.221', '2024-12-25 14:27:49 39.78.3.195', '2024-12-26 13:52:49 228.189.181.39', '2024-12-27 23:37:49 172.100.249.113', '2024-12-26 09:13:49 232.227.219.148', '2024-12-24 07:56:49 151.228.78.51', '2024-12-23 20:31:49 243.240.235.183', '2024-12-28 23:22:49 108.13.237.33', '2024-12-26 17:36:49 6.44.125.76', '2024-12-28 18:01:49 78.12.75.181', '2024-12-28 15:47:49 181.80.203.140', '2024-12-31 15:26:49 228.144.131.218', '2024-12-28 14:15:49 100.155.229.227', '2024-12-25 02:05:49 165.99.84.15', '2024-12-29 03:34:49 209.1.124.201', '2024-12-28 20:38:49 25.218.29.154', '2024-12-28 13:29:49 97.83.49.133', '2024-12-29 17:05:49 240.222.97.31', '2024-12-31 11:18:49 102.1.168.97', '2024-12-29 10:59:49 209.159.239.201', '2024-12-30 01:42:49 175.230.51.187', '2024-12-24 17:31:49 88.169.92.21', '2024-12-25 01:58:49 15.176.24.73', '2024-12-27 11:48:49 83.26.48.16']\n",
      "2024-12-24 23:18:49 250.141.129.28\n",
      "(0, 34)\n",
      "0\n",
      "34\n"
     ]
    }
   ],
   "execution_count": 67
  },
  {
   "metadata": {},
   "cell_type": "code",
   "outputs": [],
   "execution_count": null,
   "source": "",
   "id": "e201b17b7936d872"
  }
 ],
 "metadata": {
  "kernelspec": {
   "display_name": "Python 3",
   "language": "python",
   "name": "python3"
  },
  "language_info": {
   "codemirror_mode": {
    "name": "ipython",
    "version": 2
   },
   "file_extension": ".py",
   "mimetype": "text/x-python",
   "name": "python",
   "nbconvert_exporter": "python",
   "pygments_lexer": "ipython2",
   "version": "2.7.6"
  }
 },
 "nbformat": 4,
 "nbformat_minor": 5
}
